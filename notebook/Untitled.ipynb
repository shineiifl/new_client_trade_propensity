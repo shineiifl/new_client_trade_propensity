{
 "cells": [
  {
   "cell_type": "code",
   "execution_count": 1,
   "id": "540d8a92",
   "metadata": {},
   "outputs": [],
   "source": [
    "import pandas as pd\n",
    "import numpy as np\n",
    "import matplotlib.pyplot as plt\n",
    "import seaborn as sns \n",
    "\n",
    "pd.set_option(\"display.max_columns\", None)\n",
    "\n",
    "import warnings\n",
    "warnings.filterwarnings(\"ignore\")"
   ]
  },
  {
   "cell_type": "markdown",
   "id": "bf53dda4",
   "metadata": {},
   "source": [
    "## Problem statement\n",
    "\n",
    "Propensity model to predict whether a client will trade in first 2 weeks"
   ]
  },
  {
   "cell_type": "markdown",
   "id": "d9dcd6f1",
   "metadata": {},
   "source": [
    "## Features"
   ]
  },
  {
   "cell_type": "markdown",
   "id": "3dbc7a70",
   "metadata": {},
   "source": [
    "* Age\n",
    "* City\n",
    "* State\n",
    "* IncomePA\n",
    "* fund added in first 2 days\n",
    "* KRA\n",
    "* BSDA\n",
    "* isKarvy\n",
    "* E2channel\n",
    "* mobileapp_yn\n",
    "* segments_activated\n",
    "* Number of logins in first 2 days after account open\n",
    "* num of days from download to account open\n",
    "* client source\n"
   ]
  },
  {
   "cell_type": "code",
   "execution_count": 34,
   "id": "e1a874ab",
   "metadata": {},
   "outputs": [],
   "source": [
    "##  Data importing\n",
    "# df_client = pd.read_csv(\"../../data/dw_mst_client.csv\")\n",
    "df_clever = pd.read_csv(\"../../data/clevertap_client_trade_data.csv\")\n"
   ]
  },
  {
   "cell_type": "markdown",
   "id": "9be9e78d",
   "metadata": {},
   "source": [
    "## feature hunt"
   ]
  },
  {
   "cell_type": "code",
   "execution_count": 4,
   "id": "9406b991",
   "metadata": {},
   "outputs": [],
   "source": [
    "cols = [\"cm_cd\",\"cm_dob\", \"data_source\", \"E2Channel\", \"E2Business\", \"IncomePA\", \"BSDA\", \n",
    "                     \"Is_Metro\", \"IsKarvy\", \"EmpAccount YN\"]\n",
    "df = df_client[cols]"
   ]
  },
  {
   "cell_type": "code",
   "execution_count": 5,
   "id": "7a7715bd",
   "metadata": {},
   "outputs": [
    {
     "data": {
      "text/plain": [
       "Equity       2383258\n",
       "Currency      394280\n",
       "Commodity     369142\n",
       "Name: data_source, dtype: int64"
      ]
     },
     "execution_count": 5,
     "metadata": {},
     "output_type": "execute_result"
    }
   ],
   "source": [
    "df[\"data_source\"].value_counts()"
   ]
  },
  {
   "cell_type": "code",
   "execution_count": 6,
   "id": "a39d9165",
   "metadata": {},
   "outputs": [],
   "source": [
    "cols.remove(\"data_source\")"
   ]
  },
  {
   "cell_type": "code",
   "execution_count": 27,
   "id": "4f95c354",
   "metadata": {},
   "outputs": [],
   "source": [
    "\n",
    "# from collections import defaultdict \n",
    "# Equity_dict = defaultdict(int)\n",
    "# Commodity_dict = defaultdict(int)\n",
    "# Currency_dict = defaultdict(int)\n",
    "\n",
    "\n",
    "# for i in range(len(df)):\n",
    "#     if df[\"data_source\"].iloc[i] != \"\":\n",
    "#         exec(\"{}_dict[df['cm_cd'].iloc[i]] = 1\".for=mat(df[\"data_source\"].iloc[i]))\n",
    "\n",
    "df = df.drop_duplicates(['cm_cd'], keep='last')\n",
    "\n",
    "df[[\"equity\", \"comm\", \"curr\"]] = np.zeros([len(df), 3])"
   ]
  },
  {
   "cell_type": "code",
   "execution_count": 32,
   "id": "51c704af",
   "metadata": {
    "collapsed": true
   },
   "outputs": [
    {
     "name": "stdout",
     "output_type": "stream",
     "text": [
      "shit happened\n",
      "shit happened\n",
      "shit happened\n",
      "shit happened\n",
      "shit happened\n",
      "shit happened\n",
      "shit happened\n",
      "shit happened\n",
      "shit happened\n",
      "shit happened\n",
      "shit happened\n",
      "shit happened\n",
      "shit happened\n",
      "shit happened\n",
      "shit happened\n",
      "shit happened\n",
      "shit happened\n",
      "shit happened\n",
      "shit happened\n",
      "shit happened\n",
      "shit happened\n",
      "shit happened\n",
      "shit happened\n",
      "shit happened\n"
     ]
    }
   ],
   "source": [
    "for i in range(len(df)):\n",
    "    if i % 100000 == 0:\n",
    "        print(\"shit happened\")\n",
    "    client = df[\"cm_cd\"].iloc[i]\n",
    "    df[\"equity\"].iloc[i] = Equity_dict[client]\n",
    "    df[\"comm\"].iloc[i] = Commodity_dict[client] \n",
    "    df[\"curr\"].iloc[i] = Currency_dict[client]    "
   ]
  },
  {
   "cell_type": "code",
   "execution_count": 55,
   "id": "f4aae101",
   "metadata": {},
   "outputs": [],
   "source": [
    "df_chumma = df.copy()"
   ]
  },
  {
   "cell_type": "code",
   "execution_count": 46,
   "id": "271c36ca",
   "metadata": {},
   "outputs": [
    {
     "data": {
      "text/plain": [
       "'19750503'"
      ]
     },
     "execution_count": 46,
     "metadata": {},
     "output_type": "execute_result"
    }
   ],
   "source": [
    "df_test[\"cm_dob\"].iloc[0]"
   ]
  },
  {
   "cell_type": "code",
   "execution_count": 65,
   "id": "bcfdfbe1",
   "metadata": {},
   "outputs": [],
   "source": [
    "now = pd.Timestamp('now')\n",
    "\n",
    "df['cm_dob'] = df['cm_dob'].astype(str).str.split(\".\").str[0]\n",
    "df['cm_dob'] = pd.to_datetime(df['cm_dob'], format='%Y%m%d', errors='coerce')\n",
    "df['cm_dob'] = df['cm_dob'].where(df['cm_dob'] < now, df['cm_dob'] -  np.timedelta64(100, 'Y'))   # 2\n",
    "df['age'] = (now - df['cm_dob']).astype('<m8[Y]')    # 3\n",
    "\n"
   ]
  },
  {
   "cell_type": "markdown",
   "id": "05f33186",
   "metadata": {},
   "source": [
    "#### adding logins in first 2 days"
   ]
  },
  {
   "cell_type": "code",
   "execution_count": 69,
   "id": "87138155",
   "metadata": {},
   "outputs": [],
   "source": [
    "df_logins = pd.read_csv(\"../../data/num_logins_in_2_days_after_acc_open.csv\")"
   ]
  },
  {
   "cell_type": "code",
   "execution_count": 72,
   "id": "f374d07e",
   "metadata": {},
   "outputs": [],
   "source": [
    "df = pd.merge(df, df_logins, \n",
    "              left_on = \"cm_cd\", right_on = \"ClientCode\", how = \"inner\")[list(df.columns) + [\"logins_in_first_2_days\"]]"
   ]
  },
  {
   "cell_type": "code",
   "execution_count": 68,
   "id": "475ec743",
   "metadata": {},
   "outputs": [],
   "source": [
    "df.to_csv(\"./inter_data/gathered_data_1.csv\")"
   ]
  },
  {
   "cell_type": "code",
   "execution_count": 84,
   "id": "11d04c93",
   "metadata": {},
   "outputs": [
    {
     "data": {
      "text/plain": [
       "<AxesSubplot:ylabel='Count'>"
      ]
     },
     "execution_count": 84,
     "metadata": {},
     "output_type": "execute_result"
    },
    {
     "data": {
      "image/png": "[encoded data removed]",
      "text/plain": [
       "<Figure size 1440x360 with 1 Axes>"
      ]
     },
     "metadata": {},
     "output_type": "display_data"
    }
   ],
   "source": [
    "sns.set(rc={'figure.figsize':(20,5)})\n",
    "\n",
    "sns.histplot(df[df[\"logins_in_first_2_days\"] < 100][[\"logins_in_first_2_days\"]], bins = 50)"
   ]
  },
  {
   "cell_type": "code",
   "execution_count": 80,
   "id": "2891383e",
   "metadata": {},
   "outputs": [],
   "source": [
    "df.to_csv(\"./inter_data/gathered_data_2.csv\")"
   ]
  },
  {
   "cell_type": "code",
   "execution_count": null,
   "id": "72b67ad0",
   "metadata": {},
   "outputs": [],
   "source": []
  }
 ],
 "metadata": {
  "kernelspec": {
   "display_name": "Python 3",
   "language": "python",
   "name": "python3"
  },
  "language_info": {
   "codemirror_mode": {
    "name": "ipython",
    "version": 3
   },
   "file_extension": ".py",
   "mimetype": "text/x-python",
   "name": "python",
   "nbconvert_exporter": "python",
   "pygments_lexer": "ipython3",
   "version": "3.8.8"
  }
 },
 "nbformat": 4,
 "nbformat_minor": 5
}

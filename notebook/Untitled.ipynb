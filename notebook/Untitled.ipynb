{
 "cells": [
  {
   "cell_type": "code",
   "execution_count": 4,
   "id": "540d8a92",
   "metadata": {},
   "outputs": [],
   "source": [
    "import pandas as pd\n",
    "import numpy as np\n",
    "import matplotlib.pyplot as plt\n",
    "import seaborn as sns \n",
    "\n",
    "pd.set_option(\"display.max_columns\", None)\n",
    "\n",
    "import warnings\n",
    "warnings.filterwarnings(\"ignore\")"
   ]
  },
  {
   "cell_type": "markdown",
   "id": "bf53dda4",
   "metadata": {},
   "source": [
    "## Problem statement\n",
    "\n",
    "Propensity model to predict whether a client will trade in first 2 weeks"
   ]
  },
  {
   "cell_type": "markdown",
   "id": "d9dcd6f1",
   "metadata": {},
   "source": [
    "## Features"
   ]
  },
  {
   "cell_type": "markdown",
   "id": "3dbc7a70",
   "metadata": {},
   "source": [
    "* Age\n",
    "* City\n",
    "* State\n",
    "* IncomePA\n",
    "* fund added in first 2 days\n",
    "* KRA\n",
    "* BSDA\n",
    "* isKarvy\n",
    "* E2channel\n",
    "* mobileapp_yn\n",
    "* segments_activated\n",
    "* Number of logins in first 2 days after account open\n",
    "* Number of trades first 2 days after account open\n",
    "* num of days from download to account open\n",
    "* client source\n"
   ]
  },
  {
   "cell_type": "code",
   "execution_count": 12,
   "id": "e1a874ab",
   "metadata": {},
   "outputs": [],
   "source": [
    "##  Data importing\n",
    "df_client = pd.read_csv(\"../../data/dw_mst_client.csv\")\n"
   ]
  },
  {
   "cell_type": "markdown",
   "id": "9be9e78d",
   "metadata": {},
   "source": [
    "## feature hunt"
   ]
  },
  {
   "cell_type": "code",
   "execution_count": 20,
   "id": "9406b991",
   "metadata": {},
   "outputs": [],
   "source": [
    "cols = [\"cm_cd\",\"cm_dob\", \"data_source\", \"E2Channel\", \"E2Business\", \"IncomePA\", \"BSDA\", \n",
    "                     \"Is_Metro\", \"IsKarvy\", \"EmpAccount YN\"]\n",
    "df = df_client[cols]"
   ]
  },
  {
   "cell_type": "code",
   "execution_count": 21,
   "id": "7a7715bd",
   "metadata": {},
   "outputs": [
    {
     "data": {
      "text/plain": [
       "Equity       2383258\n",
       "Currency      394280\n",
       "Commodity     369142\n",
       "Name: data_source, dtype: int64"
      ]
     },
     "execution_count": 21,
     "metadata": {},
     "output_type": "execute_result"
    }
   ],
   "source": [
    "df[\"data_source\"].value_counts()"
   ]
  },
  {
   "cell_type": "code",
   "execution_count": 22,
   "id": "a39d9165",
   "metadata": {},
   "outputs": [],
   "source": [
    "cols.remove(\"data_source\")"
   ]
  },
  {
   "cell_type": "code",
   "execution_count": null,
   "id": "4f95c354",
   "metadata": {},
   "outputs": [],
   "source": [
    "df_model = pd.DataFrame(columns = cols + [\"equity\", \"curr\", \"comm\"])\n",
    "\n",
    "# from collections import defaultdict \n",
    "# Equity_dict = defaultdict(int)\n",
    "# Commodity_dict = defaultdict(int)\n",
    "# Currency_dict = defaultdict(int)\n",
    "\n",
    "\n",
    "# for i in range(len(df)):\n",
    "#     if df[\"data_source\"].iloc[i] != \"\":\n",
    "#         exec(\"{}_dict[df['cm_cd'].iloc[i]] = 1\".format(df[\"data_source\"].iloc[i]))\n",
    "\n",
    "df = df.drop_duplicates(['cm_cd'], keep='last')\n",
    "\n",
    "for i in range(len(df)):\n",
    "    curr = df.iloc[i, :]\n",
    "    client = curr[0]\n",
    "    new = [client] + list(curr[2:]) + [Equity_dict[client], Commodity_dict[client], Currency_dict[client]]\n",
    "    \n",
    "    df_model.loc[len(df_model)] = new\n",
    "    "
   ]
  },
  {
   "cell_type": "code",
   "execution_count": 30,
   "id": "538c254a",
   "metadata": {},
   "outputs": [
    {
     "data": {
      "text/plain": [
       "E2Channel              Franchisee\n",
       "E2Business       Retail Brokerage\n",
       "IncomePA                    5_10L\n",
       "BSDA                            N\n",
       "Is_Metro                        N\n",
       "IsKarvy                         1\n",
       "EmpAccount YN                   N\n",
       "Name: 0, dtype: object"
      ]
     },
     "execution_count": 30,
     "metadata": {},
     "output_type": "execute_result"
    }
   ],
   "source": [
    "curr.iloc[0, 2:]"
   ]
  },
  {
   "cell_type": "code",
   "execution_count": 5,
   "id": "b93fe100",
   "metadata": {},
   "outputs": [],
   "source": [
    "df_test = pd.read_csv(\"../../data/oiclientactivation.csv\")"
   ]
  },
  {
   "cell_type": "code",
   "execution_count": 43,
   "id": "31479778",
   "metadata": {},
   "outputs": [],
   "source": [
    "chumma = \"shune\"\n",
    "exec(\"chumma = 'theetam'\")"
   ]
  },
  {
   "cell_type": "code",
   "execution_count": 44,
   "id": "c6e2bba8",
   "metadata": {},
   "outputs": [
    {
     "data": {
      "text/plain": [
       "'theetam'"
      ]
     },
     "execution_count": 44,
     "metadata": {},
     "output_type": "execute_result"
    }
   ],
   "source": [
    "chumma"
   ]
  },
  {
   "cell_type": "code",
   "execution_count": null,
   "id": "7cd33a51",
   "metadata": {},
   "outputs": [],
   "source": []
  }
 ],
 "metadata": {
  "kernelspec": {
   "display_name": "Python 3",
   "language": "python",
   "name": "python3"
  },
  "language_info": {
   "codemirror_mode": {
    "name": "ipython",
    "version": 3
   },
   "file_extension": ".py",
   "mimetype": "text/x-python",
   "name": "python",
   "nbconvert_exporter": "python",
   "pygments_lexer": "ipython3",
   "version": "3.8.8"
  }
 },
 "nbformat": 4,
 "nbformat_minor": 5
}
